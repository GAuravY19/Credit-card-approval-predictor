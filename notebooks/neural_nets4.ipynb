{
 "cells": [
  {
   "cell_type": "code",
   "execution_count": 15,
   "metadata": {},
   "outputs": [],
   "source": [
    "import pandas as pd\n",
    "import torch\n",
    "import torch.nn as nn\n",
    "from torch.utils.data import TensorDataset, DataLoader"
   ]
  },
  {
   "cell_type": "code",
   "execution_count": 2,
   "metadata": {},
   "outputs": [],
   "source": [
    "from sklearn.metrics import classification_report, accuracy_score, confusion_matrix\n",
    "from sklearn.model_selection import train_test_split\n",
    "from sklearn.decomposition import PCA"
   ]
  },
  {
   "cell_type": "code",
   "execution_count": 3,
   "metadata": {},
   "outputs": [],
   "source": [
    "df = pd.read_csv(r'D:\\Credit-card-approval-predictor\\data\\ready_data\\modelling_data.csv')"
   ]
  },
  {
   "cell_type": "code",
   "execution_count": 4,
   "metadata": {},
   "outputs": [
    {
     "data": {
      "text/plain": [
       "TARGET\n",
       "1.0    535253\n",
       "0.0      1962\n",
       "Name: count, dtype: int64"
      ]
     },
     "execution_count": 4,
     "metadata": {},
     "output_type": "execute_result"
    }
   ],
   "source": [
    "df['TARGET'].value_counts()"
   ]
  },
  {
   "cell_type": "code",
   "execution_count": 5,
   "metadata": {},
   "outputs": [],
   "source": [
    "sample1 = df[df['TARGET'] == 1]\n",
    "sample0 = df[df['TARGET'] == 0]"
   ]
  },
  {
   "cell_type": "code",
   "execution_count": 6,
   "metadata": {},
   "outputs": [],
   "source": [
    "sample0 = sample0.sample(535253, replace=True)"
   ]
  },
  {
   "cell_type": "code",
   "execution_count": 7,
   "metadata": {},
   "outputs": [],
   "source": [
    "sample0_reset = sample0.reset_index(drop=True)\n",
    "sample1_reset = sample1.reset_index(drop=True)"
   ]
  },
  {
   "cell_type": "code",
   "execution_count": 8,
   "metadata": {},
   "outputs": [],
   "source": [
    "df2 = pd.concat([sample0_reset, sample1_reset], axis='rows', ignore_index=True)"
   ]
  },
  {
   "cell_type": "code",
   "execution_count": 40,
   "metadata": {},
   "outputs": [],
   "source": [
    "pca = PCA(0.9)"
   ]
  },
  {
   "cell_type": "code",
   "execution_count": 41,
   "metadata": {},
   "outputs": [],
   "source": [
    "df3 = pca.fit_transform(df2)"
   ]
  },
  {
   "cell_type": "code",
   "execution_count": 42,
   "metadata": {},
   "outputs": [
    {
     "data": {
      "text/plain": [
       "(1070506, 7)"
      ]
     },
     "execution_count": 42,
     "metadata": {},
     "output_type": "execute_result"
    }
   ],
   "source": [
    "df3.shape"
   ]
  },
  {
   "cell_type": "code",
   "execution_count": 10,
   "metadata": {},
   "outputs": [
    {
     "data": {
      "text/plain": [
       "Index(['FLAG_OWN_REALTY', 'CNT_CHILDREN', 'AMT_INCOME_TOTAL',\n",
       "       'NAME_INCOME_TYPE', 'NAME_EDUCATION_TYPE', 'CNT_FAM_MEMBERS', 'STATUS',\n",
       "       'TARGET', 'AGE', 'YR_EMPLOYEED', 'NEW_OCC_COL', 'House / apartment',\n",
       "       'Municipal apartment', 'Office apartment', 'Rented apartment',\n",
       "       'With parents'],\n",
       "      dtype='object')"
      ]
     },
     "execution_count": 10,
     "metadata": {},
     "output_type": "execute_result"
    }
   ],
   "source": [
    "df2.columns"
   ]
  },
  {
   "cell_type": "markdown",
   "metadata": {},
   "source": [
    "### Preparing the batches of the dataset"
   ]
  },
  {
   "cell_type": "code",
   "execution_count": 13,
   "metadata": {},
   "outputs": [],
   "source": [
    "realty_tensor = torch.tensor(df2['FLAG_OWN_REALTY'].values, dtype=torch.float32)\n",
    "children_tensor = torch.tensor(df2['CNT_CHILDREN'].values, dtype=torch.float32)\n",
    "income_tensor = torch.tensor(df2['AMT_INCOME_TOTAL'].values, dtype=torch.float32)\n",
    "income_type_tensor = torch.tensor(df2['NAME_INCOME_TYPE'].values, dtype=torch.float32)\n",
    "educ_tensor = torch.tensor(df2['NAME_EDUCATION_TYPE'].values, dtype=torch.float32)\n",
    "fam_mem_tensor = torch.tensor(df2['CNT_FAM_MEMBERS'].values, dtype=torch.float32)\n",
    "status_tensor = torch.tensor(df2['STATUS'].values, dtype=torch.float32)\n",
    "age_tensor = torch.tensor(df2['AGE'].values, dtype=torch.float32)\n",
    "yr_tensor = torch.tensor(df2['YR_EMPLOYEED'].values, dtype=torch.float32)\n",
    "occ_tensor = torch.tensor(df2['NEW_OCC_COL'].values, dtype=torch.float32)\n",
    "house_tesnor = torch.tensor(df2['House / apartment'].values, dtype=torch.float32)\n",
    "municipal_tensor = torch.tensor(df2['Municipal apartment'].values, dtype=torch.float32)\n",
    "office_tensor = torch.tensor(df2['Office apartment'].values, dtype=torch.float32)\n",
    "rent_tensor = torch.tensor(df2['Rented apartment'].values, dtype=torch.float32)\n",
    "parents_tensor = torch.tensor(df2['With parents'].values, dtype=torch.float32)\n",
    "target_tensor = torch.tensor(df2['TARGET'].values, dtype=torch.float32)"
   ]
  },
  {
   "cell_type": "code",
   "execution_count": 43,
   "metadata": {},
   "outputs": [],
   "source": [
    "# X = torch.stack([realty_tensor, children_tensor, income_tensor, income_type_tensor, educ_tensor, fam_mem_tensor, status_tensor, age_tensor, yr_tensor, occ_tensor, house_tesnor, municipal_tensor, office_tensor, rent_tensor, parents_tensor], dim = 1)\n",
    "\n",
    "Y = target_tensor"
   ]
  },
  {
   "cell_type": "code",
   "execution_count": 47,
   "metadata": {},
   "outputs": [],
   "source": [
    "X = torch.from_numpy(df3).type(dtype=torch.float32)"
   ]
  },
  {
   "cell_type": "code",
   "execution_count": 48,
   "metadata": {},
   "outputs": [],
   "source": [
    "X_TRAIN, X_TEST, Y_TRAIN, Y_TEST = train_test_split(X, Y, test_size=0.2, random_state=42)"
   ]
  },
  {
   "cell_type": "code",
   "execution_count": 49,
   "metadata": {},
   "outputs": [],
   "source": [
    "train_dataset = TensorDataset(X_TRAIN, Y_TRAIN)\n",
    "test_dataset = TensorDataset(X_TEST, Y_TEST)"
   ]
  },
  {
   "cell_type": "code",
   "execution_count": 50,
   "metadata": {},
   "outputs": [],
   "source": [
    "batch_size = 32\n",
    "\n",
    "train_dataloader = DataLoader(train_dataset, batch_size=batch_size, shuffle=True)\n",
    "test_dataloader = DataLoader(test_dataset, batch_size = batch_size, shuffle=False)"
   ]
  },
  {
   "cell_type": "code",
   "execution_count": 73,
   "metadata": {},
   "outputs": [],
   "source": [
    "class ModelV2(nn.Module):\n",
    "    def __init__(self):\n",
    "        super().__init__()\n",
    "\n",
    "        self.layer_stack = nn.Sequential(\n",
    "            nn.Tanh(),\n",
    "            nn.Linear(in_features=7, out_features=1),\n",
    "            # nn.Tanh(),\n",
    "            # nn.Linear(in_features=5, out_features=1),\n",
    "            nn.ReLU()\n",
    "        )\n",
    "\n",
    "    def forward(self, x):\n",
    "        return self.layer_stack(x)"
   ]
  },
  {
   "cell_type": "code",
   "execution_count": 74,
   "metadata": {},
   "outputs": [],
   "source": [
    "torch.manual_seed(42)\n",
    "Model6 = ModelV2()"
   ]
  },
  {
   "cell_type": "code",
   "execution_count": 75,
   "metadata": {},
   "outputs": [],
   "source": [
    "loss_fn = torch.nn.BCEWithLogitsLoss()\n",
    "optimizer = torch.optim.SGD(params = Model6.parameters(),\n",
    "                            lr = 0.1)"
   ]
  },
  {
   "cell_type": "code",
   "execution_count": 76,
   "metadata": {},
   "outputs": [
    {
     "name": "stdout",
     "output_type": "stream",
     "text": [
      "Epoch: 0 | Loss: 0.68924 | Test Loss: 0.69594\n",
      "Epoch: 1 | Loss: 0.82723 | Test Loss: 0.69594\n",
      "Epoch: 2 | Loss: 0.57723 | Test Loss: 0.69594\n",
      "Epoch: 3 | Loss: 0.70823 | Test Loss: 0.69594\n",
      "Epoch: 4 | Loss: 0.57723 | Test Loss: 0.69594\n",
      "Epoch: 5 | Loss: 0.70823 | Test Loss: 0.69594\n",
      "Epoch: 6 | Loss: 0.60823 | Test Loss: 0.69594\n",
      "Epoch: 7 | Loss: 0.63924 | Test Loss: 0.69594\n",
      "Epoch: 8 | Loss: 0.70823 | Test Loss: 0.69594\n",
      "Epoch: 9 | Loss: 0.67723 | Test Loss: 0.69594\n"
     ]
    }
   ],
   "source": [
    "torch.manual_seed(42)\n",
    "\n",
    "epochs = 10\n",
    "\n",
    "for epoch in range(epochs):\n",
    "\n",
    "    for batch_idx, (batch_features, batch_labels) in enumerate(train_dataloader):\n",
    "\n",
    "        Model6.train()\n",
    "\n",
    "        y_logits = Model6(batch_features).squeeze()\n",
    "        y_pred = torch.round(torch.sigmoid(y_logits))\n",
    "\n",
    "        loss = loss_fn(y_pred, batch_labels)\n",
    "\n",
    "        optimizer.zero_grad()\n",
    "\n",
    "        loss.backward()\n",
    "\n",
    "        optimizer.step()\n",
    "\n",
    "    for batch_idx, (test_features, test_labels) in enumerate(test_dataloader):\n",
    "        Model6.eval()\n",
    "        with torch.inference_mode():\n",
    "            test_logits = Model6(test_features).squeeze()\n",
    "            test_pred = torch.round(torch.sigmoid(test_logits))\n",
    "\n",
    "            test_loss = loss_fn(test_pred, test_labels)\n",
    "\n",
    "\n",
    "\n",
    "    print(f\"Epoch: {epoch} | Loss: {loss:.5f} | Test Loss: {test_loss:.5f}\")\n",
    "\n",
    "\n"
   ]
  },
  {
   "cell_type": "code",
   "execution_count": 32,
   "metadata": {},
   "outputs": [],
   "source": [
    "import seaborn as sn\n"
   ]
  },
  {
   "cell_type": "code",
   "execution_count": 77,
   "metadata": {},
   "outputs": [
    {
     "name": "stdout",
     "output_type": "stream",
     "text": [
      "The test loss is tensor(0.6959)\n",
      "The accuracy score is  0.7727272727272727\n",
      "The consfusion matrix is\n"
     ]
    },
    {
     "data": {
      "text/plain": [
       "<Axes: >"
      ]
     },
     "execution_count": 77,
     "metadata": {},
     "output_type": "execute_result"
    },
    {
     "data": {
      "image/png": "[encoded data removed]",
      "text/plain": [
       "<Figure size 640x480 with 2 Axes>"
      ]
     },
     "metadata": {},
     "output_type": "display_data"
    }
   ],
   "source": [
    "Model6.eval()\n",
    "all_predictions = []\n",
    "all_labels = []\n",
    "with torch.inference_mode():\n",
    "    for test_features, test_labels in test_dataloader:\n",
    "        test_logits = Model6(test_features).squeeze()\n",
    "        test_pred = torch.round(torch.sigmoid(test_logits))\n",
    "\n",
    "        test_loss = loss_fn(test_pred, test_labels)\n",
    "\n",
    "    all_labels.extend(test_labels.tolist())\n",
    "    all_predictions.extend(test_pred.tolist())\n",
    "print(\"The test loss is\", test_loss)\n",
    "\n",
    "print(\"The accuracy score is \", accuracy_score(y_true=all_labels, y_pred=all_predictions))\n",
    "\n",
    "cm = confusion_matrix(y_true=all_labels, y_pred=all_predictions)\n",
    "\n",
    "print('The consfusion matrix is')\n",
    "sn.heatmap(cm, annot=True, fmt=\"g\")\n"
   ]
  },
  {
   "cell_type": "code",
   "execution_count": 78,
   "metadata": {},
   "outputs": [],
   "source": [
    "# saving the model\n",
    "torch.save(Model6.state_dict(), \"D:/Credit-card-approval-predictor/artifacts/model/pytorchneural.pth\")"
   ]
  },
  {
   "cell_type": "code",
   "execution_count": 81,
   "metadata": {},
   "outputs": [],
   "source": [
    "import pickle\n",
    "\n",
    "with open('D:/Credit-card-approval-predictor/artifacts/pca.pkl', 'wb') as f:\n",
    "    pickle.dump(pca, f)"
   ]
  },
  {
   "cell_type": "code",
   "execution_count": 65,
   "metadata": {},
   "outputs": [
    {
     "name": "stdout",
     "output_type": "stream",
     "text": [
      "[0.0, 1.0, 0.0, 0.0, 0.0, 1.0, 1.0, 0.0, 0.0, 1.0, 1.0, 0.0, 0.0, 0.0, 0.0, 1.0, 0.0, 1.0, 0.0, 1.0, 0.0, 0.0]\n"
     ]
    }
   ],
   "source": [
    "\n",
    "print(all_labels)"
   ]
  },
  {
   "cell_type": "code",
   "execution_count": null,
   "metadata": {},
   "outputs": [],
   "source": []
  }
 ],
 "metadata": {
  "kernelspec": {
   "display_name": "venv",
   "language": "python",
   "name": "python3"
  },
  "language_info": {
   "codemirror_mode": {
    "name": "ipython",
    "version": 3
   },
   "file_extension": ".py",
   "mimetype": "text/x-python",
   "name": "python",
   "nbconvert_exporter": "python",
   "pygments_lexer": "ipython3",
   "version": "3.11.3"
  }
 },
 "nbformat": 4,
 "nbformat_minor": 2
}
